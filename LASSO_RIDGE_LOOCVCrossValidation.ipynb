{
 "cells": [
  {
   "cell_type": "markdown",
   "metadata": {},
   "source": [
    "Part 2"
   ]
  },
  {
   "cell_type": "code",
   "execution_count": 1,
   "metadata": {},
   "outputs": [],
   "source": [
    "# Load the libraries needed\n",
    "%matplotlib inline\n",
    "import csv\n",
    "import numpy as np\n",
    "import matplotlib.pyplot as plt\n",
    "from sklearn.linear_model import LinearRegression, Ridge, Lasso\n",
    "import time\n",
    "import math\n",
    "\n",
    "# Seed random number generator\n",
    "np.random.seed(123)\n",
    "\n",
    "# Helper functions for linear models\n",
    "def linear ( X, coefficients ):\n",
    "    return np.dot(X, np.transpose(coefficients), )\n",
    "\n",
    "def fit_linear( X, y, features=None ):\n",
    "    \"\"\" \n",
    "        Returns the coefficients of a linear model fit to X,y.\n",
    "        If features is a list of integers, then fit will ignore\n",
    "        any features whose index is not in the list.\n",
    "        ( Returned coefficients for these features will be set\n",
    "        to 0. )\n",
    "    \"\"\"\n",
    "    if features is not None:\n",
    "        # Make a mask\n",
    "        tot_num_features = np.shape(X)[-1]\n",
    "        mask = np.zeros((1,tot_num_features))\n",
    "        mask[0,features] = 1.\n",
    "        # Zero out all irrellevant features\n",
    "        X = X * mask\n",
    "    \n",
    "    # Do linear least squares fit\n",
    "    clf = LinearRegression(fit_intercept=False)\n",
    "    clf.fit(X, y)\n",
    "    return clf.coef_\n",
    "\n",
    "\n",
    "def ridge_regression( X, y, lam=1.0, features=None ):\n",
    "    \"\"\" \n",
    "        Identical to fit_linear, but performs ridge regression\n",
    "        with weight penalty alpha (alternatively known as lambda)\n",
    "    \"\"\"\n",
    "    if features is not None:\n",
    "        # Make a mask\n",
    "        tot_num_features = np.shape(X)[-1]\n",
    "        mask = np.zeros((1,tot_num_features))\n",
    "        mask[0,features] = 1.\n",
    "        # Zero out all irrellevant features\n",
    "        X = X * mask\n",
    "    \n",
    "    # Do ridge regression fit\n",
    "    clf = Ridge(alpha=lam, fit_intercept=False)\n",
    "    clf.fit(X, y)\n",
    "    return clf.coef_\n",
    "\n",
    "def lasso_regression( X, y, lam=1.0, features=None ):\n",
    "    \"\"\" \n",
    "        Identical to fit_linear, but performs lasso regression\n",
    "        with weight penalty alpha (alternatively known as lambda)\n",
    "    \"\"\"\n",
    "    if features is not None:\n",
    "        # Make a mask\n",
    "        tot_num_features = np.shape(X)[-1]\n",
    "        mask = np.zeros((1,tot_num_features))\n",
    "        mask[0,features] = 1.\n",
    "        # Zero out all irrellevant features\n",
    "        X = X * mask\n",
    "    \n",
    "    # Do ridge regression fit\n",
    "    clf = Lasso(alpha=lam, fit_intercept=False, max_iter=1e5)\n",
    "    clf.fit(X, y)\n",
    "    return clf.coef_\n"
   ]
  },
  {
   "cell_type": "code",
   "execution_count": 2,
   "metadata": {},
   "outputs": [],
   "source": [
    "def mse_loss( X, y, learned_coefficients ):\n",
    "    y_pred = linear(X,learned_coefficients)\n",
    "    mse = np.mean(np.square(y_pred-y))\n",
    "    return mse"
   ]
  },
  {
   "cell_type": "markdown",
   "metadata": {},
   "source": [
    "Part 2 Assignment 1"
   ]
  },
  {
   "cell_type": "code",
   "execution_count": 3,
   "metadata": {},
   "outputs": [
    {
     "name": "stdout",
     "output_type": "stream",
     "text": [
      "Train Loss (100 datapoints)\n",
      "Linear Regression:    0.057\n",
      "Ridge Regression:     0.057\n",
      "LASSO:                0.058\n",
      "\n",
      "Test Loss (100 datapoints)\n",
      "Linear Regression:    0.169\n",
      "Ridge Regression:     0.167\n",
      "LASSO:                0.158\n"
     ]
    }
   ],
   "source": [
    "#100 datapoints \n",
    "\n",
    "# Load generated data\n",
    "X, [y] = np.load(\"./class10_training_a.npy\", allow_pickle=True)\n",
    "X_test, [y_test] = np.load(\"./class10_test.npy\", allow_pickle=True)\n",
    "\n",
    "lin_reg_train_loss = mse_loss(X, y, fit_linear(X, y))\n",
    "ridge_train_loss = mse_loss(X, y, ridge_regression(X, y, lam=1.0))\n",
    "lasso_train_loss = mse_loss(X, y, lasso_regression(X, y, lam=0.003))\n",
    "\n",
    "print(\"Train Loss ({:d} datapoints)\".format(len(X)))\n",
    "print(\"Linear Regression:    {:.3f}\".format(lin_reg_train_loss))\n",
    "print(\"Ridge Regression:     {:.3f}\".format(ridge_train_loss))\n",
    "print(\"LASSO:                {:.3f}\".format(lasso_train_loss))\n",
    "\n",
    "print(\"\\nTest Loss ({:d} datapoints)\".format(len(X)))\n",
    "# Include your code for calculating the loss on the test set (X_test, y_test)\n",
    "# (And remember NEVER to train on the test set)\n",
    "\n",
    "\n",
    "lin_reg_test_loss = mse_loss(X_test, y_test, fit_linear(X, y))\n",
    "ridge_test_loss = mse_loss(X_test, y_test, ridge_regression(X, y, lam=1.0))\n",
    "lasso_test_loss = mse_loss(X_test, y_test, lasso_regression(X, y, lam=0.003))\n",
    "\n",
    "print(\"Linear Regression:    {:.3f}\".format(lin_reg_test_loss))\n",
    "print(\"Ridge Regression:     {:.3f}\".format(ridge_test_loss))\n",
    "print(\"LASSO:                {:.3f}\".format(lasso_test_loss))"
   ]
  },
  {
   "cell_type": "code",
   "execution_count": 4,
   "metadata": {},
   "outputs": [
    {
     "name": "stdout",
     "output_type": "stream",
     "text": [
      "Train Loss (25 datapoints)\n",
      "Ridge Regression:     0.047\n",
      "LASSO:                0.146\n",
      "\n",
      "Test Loss (25 datapoints)\n",
      "Ridge Regression:     0.715\n",
      "LASSO:                0.655\n"
     ]
    }
   ],
   "source": [
    "# 25 datapoints\n",
    "\n",
    "# Load generated data\n",
    "X, [y] = np.load(\"./class10_training_b.npy\", allow_pickle=True)\n",
    "\n",
    "ridge_train_loss = mse_loss(X, y, ridge_regression(X, y, lam=10))\n",
    "lasso_train_loss = mse_loss(X, y, lasso_regression(X, y, lam=0.1))\n",
    "\n",
    "print(\"Train Loss ({:d} datapoints)\".format(len(X)))\n",
    "# Why do we not use Linear Regression?\n",
    "print(\"Ridge Regression:     {:.3f}\".format(ridge_train_loss))\n",
    "print(\"LASSO:                {:.3f}\".format(lasso_train_loss))\n",
    "\n",
    "print(\"\\nTest Loss ({:d} datapoints)\".format(len(X)))\n",
    "# Include your code for calculating the loss on the test set (X_test, y_test)\n",
    "X_test1, [y_test1] = np.load(\"./class10_test.npy\", allow_pickle=True)\n",
    "\n",
    "ridge_test_loss = mse_loss(X_test1, y_test1, ridge_regression(X, y, lam=10))\n",
    "lasso_test_loss = mse_loss(X_test1, y_test1, lasso_regression(X, y, lam=0.1))\n",
    "\n",
    "print(\"Ridge Regression:     {:.3f}\".format(ridge_test_loss))\n",
    "print(\"LASSO:                {:.3f}\".format(lasso_test_loss))"
   ]
  },
  {
   "cell_type": "markdown",
   "metadata": {},
   "source": [
    "Part 2 Assignment 2"
   ]
  },
  {
   "cell_type": "code",
   "execution_count": 5,
   "metadata": {},
   "outputs": [
    {
     "name": "stdout",
     "output_type": "stream",
     "text": [
      "Fitted LASSO with lambda 0.500, learned parameters:\n",
      "[ 0. -0. -0. -0. -0. -0. -0. -0. -0. -0. -0.  0.  0.  0. -0.]\n",
      "Non-zero features : [] (0 total)\n",
      "Train error: 0.949\n",
      "Test error:  1.101\n"
     ]
    }
   ],
   "source": [
    "#lambda = 5\n",
    "\n",
    "# Load data\n",
    "X_train, [y_train] = np.load(\"./class10_auto_train.npy\", allow_pickle=True)\n",
    "X_test, [y_test] = np.load(\"./class10_auto_test.npy\", allow_pickle=True)\n",
    "\n",
    "lam = 0.5\n",
    "learned_features = lasso_regression(X_train, y_train, lam=lam)\n",
    "nonzero_features = np.argwhere(~ np.isclose(learned_features, 0.)).squeeze()\n",
    "\n",
    "print(\"Fitted LASSO with lambda {:.3f}, learned parameters:\".format(lam))\n",
    "print(learned_features)\n",
    "print(\"Non-zero features : {} ({:d} total)\".format(list(nonzero_features), len(nonzero_features)))\n",
    "\n",
    "train_loss = mse_loss(X_train, y_train, learned_features)\n",
    "print(\"Train error: {:.3f}\".format(train_loss))\n",
    "\n",
    "test_loss = mse_loss(X_test,y_test,learned_features)\n",
    "print(\"Test error:  {:.3f}\".format(test_loss))"
   ]
  },
  {
   "cell_type": "code",
   "execution_count": 6,
   "metadata": {},
   "outputs": [
    {
     "name": "stdout",
     "output_type": "stream",
     "text": [
      "Fitted LASSO with lambda 0.050, learned parameters:\n",
      "[ 0.37465549 -0.5768899   0.          0.07039306 -0.          0.\n",
      "  0.          0.         -0.          0.          0.         -0.\n",
      " -0.02611483 -0.          0.        ]\n",
      "Non-zero features : [0, 1, 3, 12] (4 total)\n",
      "Train error: 0.464\n",
      "Test error:  0.517\n"
     ]
    }
   ],
   "source": [
    "#lambda = 0.05\n",
    "\n",
    "# Load data\n",
    "X_train, [y_train] = np.load(\"./class10_auto_train.npy\", allow_pickle=True)\n",
    "X_test, [y_test] = np.load(\"./class10_auto_test.npy\", allow_pickle=True)\n",
    "\n",
    "lam = 0.05\n",
    "learned_features = lasso_regression(X_train, y_train, lam=lam)\n",
    "nonzero_features = np.argwhere(~ np.isclose(learned_features, 0.)).squeeze()\n",
    "\n",
    "print(\"Fitted LASSO with lambda {:.3f}, learned parameters:\".format(lam))\n",
    "print(learned_features)\n",
    "print(\"Non-zero features : {} ({:d} total)\".format(list(nonzero_features), len(nonzero_features)))\n",
    "\n",
    "train_loss = mse_loss(X_train, y_train, learned_features)\n",
    "print(\"Train error: {:.3f}\".format(train_loss))\n",
    "\n",
    "test_loss = mse_loss(X_test,y_test,learned_features)\n",
    "print(\"Test error:  {:.3f}\".format(test_loss))"
   ]
  },
  {
   "cell_type": "code",
   "execution_count": 3,
   "metadata": {},
   "outputs": [
    {
     "name": "stdout",
     "output_type": "stream",
     "text": [
      "Sucessfully loaded 160 entries.\n",
      "\n"
     ]
    }
   ],
   "source": [
    "# Load data\n",
    "data = []\n",
    "continuous_features = np.array([ 0, 1, 9, 10, 11, 12, 13, 16, 18, 19, 20, 21, 22, 23, 24, 25 ])\n",
    "\n",
    "train_features = np.array([1, 9, 10, 11, 12, 13, 16, 18, 19, 20, 21, 22, 23, 24, 25 ])\n",
    "\n",
    "# Original data is from https://archive.ics.uci.edu/ml/datasets/automobile\n",
    "with open('./automobile.csv', 'r', encoding='utf-8') as csvfile:\n",
    "    csvreader = csv.reader(csvfile, delimiter=',', quotechar='\\\"')\n",
    "    for row in csvreader:\n",
    "        try:\n",
    "            # Get all continuous rows\n",
    "            data.append([float(row[i]) for i in continuous_features])\n",
    "        except:\n",
    "            continue # skip this row since data-processing failed\n",
    "\n",
    "data = np.array(data)\n",
    "y = data[:, 0] # target is first value\n",
    "X = data[:, 1:] # training data is the rest\n",
    "\n",
    "# Normalize the data to zero mean and unit std\n",
    "X = (X - np.mean(X, axis=0, keepdims=True)) / np.std(X, axis=0, keepdims=True)\n",
    "y = (y - np.mean(y)) / np.std(y)\n",
    "\n",
    "print(\"Sucessfully loaded {:d} entries.\\n\".format(len(X)))\n",
    "\n"
   ]
  },
  {
   "cell_type": "markdown",
   "metadata": {},
   "source": [
    "Part 2 Assignment 3"
   ]
  },
  {
   "cell_type": "code",
   "execution_count": 8,
   "metadata": {},
   "outputs": [
    {
     "name": "stdout",
     "output_type": "stream",
     "text": [
      "{0.5089885528137719: 0.001, 0.5068260378209043: 0.003, 0.496076218250418: 0.01, 0.47972202207150527: 0.03, 0.522332620396736: 0.1, 0.6775156305326113: 0.3}\n",
      "Optimal Lambda 0.03, LOOCV mse score 0.47972202207150527\n"
     ]
    }
   ],
   "source": [
    "#LOOCV\n",
    "lam = [0.001,0.003,0.01,0.03,0.1,0.3]\n",
    "score = []\n",
    "\n",
    "for l in lam:\n",
    "    \n",
    "    loss = []\n",
    "    \n",
    "    for i in range (0,len(X)):\n",
    "        \n",
    "        X_train = np.delete(X,i,0)\n",
    "        y_train = np.delete(y,i,0)\n",
    "\n",
    "        X_test = X[i]\n",
    "        y_test = y[i]\n",
    "        \n",
    "        learned_coefs = lasso_regression(X_train,y_train,l)\n",
    "        round_loss = mse_loss(X_test,y_test,learned_coefs)\n",
    "        \n",
    "        loss.append(round_loss)\n",
    "        \n",
    "    score.append(np.mean(loss))\n",
    "    \n",
    "print(dict(zip(score,lam)))\n",
    "print(\"Optimal Lambda {}, LOOCV mse score {}\".format(lam[np.argmin(score)],min(score)))"
   ]
  },
  {
   "cell_type": "code",
   "execution_count": 9,
   "metadata": {},
   "outputs": [
    {
     "data": {
      "text/plain": [
       "Text(0.5, 0, 'Lamdba')"
      ]
     },
     "execution_count": 9,
     "metadata": {},
     "output_type": "execute_result"
    },
    {
     "data": {
      "image/png": "[encoded data removed]",
      "text/plain": [
       "<Figure size 432x288 with 1 Axes>"
      ]
     },
     "metadata": {
      "needs_background": "light"
     },
     "output_type": "display_data"
    }
   ],
   "source": [
    "plt.plot(lam,score)\n",
    "plt.plot(lam[np.argmin(score)],min(score), \"x\")\n",
    "plt.ylabel(\"Test LOOCV MSE\")\n",
    "plt.xlabel(\"Lamdba\")"
   ]
  },
  {
   "cell_type": "code",
   "execution_count": 10,
   "metadata": {},
   "outputs": [
    {
     "name": "stdout",
     "output_type": "stream",
     "text": [
      "index: [ 0  1  3  9 10 11]\n",
      "feature no. : [ 1  9 11 20 21 22] total: 6\n",
      "coefficients: [ 0.41229806 -0.67706057  0.20655253  0.03608566  0.06103328 -0.00820271]\n"
     ]
    }
   ],
   "source": [
    "learned_features = lasso_regression(X, y, lam=0.03)\n",
    "nonzero_features = np.argwhere(~ np.isclose(learned_features, 0.)).squeeze()\n",
    "print(\"index:\", nonzero_features)\n",
    "print(\"feature no. :\", train_features[nonzero_features], \"total:\",len(nonzero_features))\n",
    "print(\"coefficients:\", learned_features[nonzero_features])"
   ]
  },
  {
   "cell_type": "code",
   "execution_count": 11,
   "metadata": {},
   "outputs": [],
   "source": [
    "from sklearn.model_selection import KFold"
   ]
  },
  {
   "cell_type": "code",
   "execution_count": 13,
   "metadata": {},
   "outputs": [
    {
     "name": "stdout",
     "output_type": "stream",
     "text": [
      "{0.001: 0.5342183866788701, 0.003: 0.5298277769392065, 0.01: 0.5235693219317692, 0.03: 0.5086957306239316, 0.1: 0.5274643488172248, 0.3: 0.6842525753928161}\n",
      "Optimised Lambda 0.03, Mean MSE from 10-KFold Cross Validation 0.5086957306239316\n"
     ]
    }
   ],
   "source": [
    "kf = KFold(n_splits=10)\n",
    "lam = [0.001,0.003,0.01,0.03,0.1,0.3]\n",
    "mse_means = []\n",
    "for x in lam:\n",
    "    test_mse = []\n",
    "    for train_index, test_index in kf.split(X):\n",
    "        \n",
    "        X_train, X_test = X[train_index], X[test_index]\n",
    "        y_train, y_test = y[train_index], y[test_index]\n",
    "        \n",
    "        lrnd_coefs = lasso_regression(X_train,y_train,lam=x)\n",
    "        round_loss = mse_loss(X_test,y_test,lrnd_coefs)\n",
    "        \n",
    "        test_mse.append(round_loss)\n",
    "        mean = np.mean(test_mse)\n",
    "        \n",
    "    mse_means.append(np.mean(mean))\n",
    "\n",
    "print(dict(zip(lam , mse_means)))\n",
    "print(\"Optimised Lambda {}, Mean MSE from 10-KFold Cross Validation {}\".format(lam[np.argmin(mse_means)], np.min(mse_means)))"
   ]
  }
 ],
 "metadata": {
  "kernelspec": {
   "display_name": "Python 3",
   "language": "python",
   "name": "python3"
  },
  "language_info": {
   "codemirror_mode": {
    "name": "ipython",
    "version": 3
   },
   "file_extension": ".py",
   "mimetype": "text/x-python",
   "name": "python",
   "nbconvert_exporter": "python",
   "pygments_lexer": "ipython3",
   "version": "3.8.5"
  }
 },
 "nbformat": 4,
 "nbformat_minor": 4
}
