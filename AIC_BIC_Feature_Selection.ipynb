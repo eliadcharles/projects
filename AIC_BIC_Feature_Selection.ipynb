{
 "cells": [
  {
   "cell_type": "markdown",
   "metadata": {},
   "source": [
    "Part 1"
   ]
  },
  {
   "cell_type": "code",
   "execution_count": 1,
   "metadata": {},
   "outputs": [],
   "source": [
    "# Load the libraries needed\n",
    "%matplotlib inline\n",
    "import csv\n",
    "import numpy as np\n",
    "import matplotlib.pyplot as plt\n",
    "import time\n",
    "import math\n",
    "\n",
    "# Seed random number generator\n",
    "np.random.seed(123)\n",
    "\n",
    "# Helper functions for polynomials\n",
    "def powers( X, n ):\n",
    "    \"\"\" Returns an array of the powers of the elements of X up to the nth power \"\"\"\n",
    "    return np.power(np.expand_dims(X, axis=-1), [np.arange(n)])\n",
    "\n",
    "def polynomial( X, poly_coeff ):\n",
    "    \"\"\" Returns the value of a polynomial at x with given coefficients \"\"\"\n",
    "    deg = np.shape(poly_coeff)[-1]\n",
    "    return np.dot(powers(X, deg), np.transpose(poly_coeff), )\n",
    "\n",
    "def fit_polynomial( X, y, n ):\n",
    "    \"\"\" Returns the coefficients of the n-degree polynomial fit to (X, y) \"\"\"\n",
    "    X_pwrs = powers(X, n+1)\n",
    "    # Do linear least squares fit\n",
    "    coeff, _, _, _ = np.linalg.lstsq(X_pwrs, y, rcond=None)\n",
    "    return coeff\n",
    "\n",
    "def degree( poly_coeff ):\n",
    "    \"\"\" Returns the degree of a polynomial from its coefficients \"\"\"\n",
    "    return len(poly_coeff)-1"
   ]
  },
  {
   "cell_type": "code",
   "execution_count": 2,
   "metadata": {},
   "outputs": [],
   "source": [
    "def rss_loss(X, y, learned_coeff):\n",
    "    \"\"\" Computes the residual sum of squares loss for a given polynomial on the given data \"\"\"\n",
    "    pred_y = polynomial(X, learned_coeff)\n",
    "    return np.sum(np.square(pred_y - y))\n",
    "    \n",
    "def aic_loss(X, y, learned_coeff):\n",
    "    \"\"\" Computes the Akaike’s Information Criterion for a given polynomial on the given data \"\"\"\n",
    "    AIC = (rss_loss(X,y,learned_coeff) + 2 * (degree(learned_coefficients)+1))/np.shape(X)[0]\n",
    "    return AIC\n",
    "    \n",
    "def bic_loss(X, y, learned_coeff):\n",
    "    \"\"\" Computes the Bayesian Information Criterion for a given polynomial on the given data \"\"\"\n",
    "    BIC = (rss_loss(X,y,learned_coeff) + ((degree(learned_coefficients)+1) * math.log(np.shape(X)[-1])))/np.shape(X)[0]\n",
    "    return BIC"
   ]
  },
  {
   "cell_type": "markdown",
   "metadata": {},
   "source": [
    "Part 1. Assignment 1"
   ]
  },
  {
   "cell_type": "code",
   "execution_count": 3,
   "metadata": {},
   "outputs": [
    {
     "data": {
      "image/png": "[encoded data removed]",
      "text/plain": [
       "<Figure size 288x288 with 1 Axes>"
      ]
     },
     "metadata": {
      "needs_background": "light"
     },
     "output_type": "display_data"
    },
    {
     "name": "stdout",
     "output_type": "stream",
     "text": [
      "Fitted a degree 3 polynomial with RSS loss: 15.57, AIC loss: 1.57, BIC loss: 1.76 to 15 datapoints.\n"
     ]
    }
   ],
   "source": [
    "# Load data\n",
    "X, y = np.load(\"./class9_generated_data.npy\", allow_pickle=True)\n",
    "\n",
    "#Plot the data\n",
    "plt.figure(figsize=(4,4))\n",
    "plt.scatter(X,y)\n",
    "plt.ylim(y.min()-1., y.max()+1.)\n",
    "\n",
    "# Make sequence of x-values for plotting\n",
    "axis_X = np.arange(-4.0, 4.0, 0.2)\n",
    "\n",
    "# Fit a polynomial\n",
    "n = 3\n",
    "learned_coefficients = fit_polynomial( X, y, n )\n",
    "\n",
    "#Plot the learned polynomial\n",
    "poly_y = polynomial(axis_X, learned_coefficients)\n",
    "plt.plot(axis_X, poly_y, )\n",
    "\n",
    "plt.show()\n",
    "\n",
    "num_points = np.shape(X)[0]\n",
    "rss = rss_loss(X, y, learned_coefficients)\n",
    "aic = aic_loss(X, y, learned_coefficients)\n",
    "bic = bic_loss(X, y, learned_coefficients)\n",
    "str_ = \"Fitted a degree {:d} polynomial with \".format(degree(learned_coefficients))\n",
    "str_ += \"RSS loss: {:.2f}, AIC loss: {:.2f}, BIC loss: {:.2f} \".format(rss, aic, bic)\n",
    "print(str_ + \"to {:d} datapoints.\".format(num_points))\n"
   ]
  },
  {
   "cell_type": "code",
   "execution_count": 4,
   "metadata": {},
   "outputs": [],
   "source": [
    "def linear ( X, coefficients ):\n",
    "    # Add a vector of ones to take care of the intercept.\n",
    "    X = np.concatenate([X,np.ones((X.shape[0],1))],axis=1)\n",
    "    return np.dot(X, np.transpose(coefficients), )\n",
    "\n",
    "def fit_linear( X, y, features=None ):\n",
    "    \"\"\" \n",
    "        Returns the coefficients of a linear model fit to X,y.\n",
    "        If features is a list of integers, then fit will ignore\n",
    "        any features whose index is not in the list.\n",
    "        ( Returned coefficients for these features will be set\n",
    "        to 0. )\n",
    "    \"\"\"\n",
    "    # Add a vector of ones to take care of the intercept.\n",
    "    X = np.concatenate([X,np.ones((X.shape[0],1))],axis=1)         \n",
    "    if features is not None:\n",
    "        # Make a mask\n",
    "        tot_num_features = np.shape(X)[-1]\n",
    "        mask = np.zeros((1,tot_num_features))\n",
    "        mask[0,features] = 1.\n",
    "        # Zero out all irrellevant features\n",
    "        X = X * mask\n",
    "    \n",
    "    # Do linear least squares fit\n",
    "    coeff, _, _, _ = np.linalg.lstsq(X, y, rcond=None)\n",
    "    return coeff"
   ]
  },
  {
   "cell_type": "code",
   "execution_count": 5,
   "metadata": {},
   "outputs": [
    {
     "name": "stdout",
     "output_type": "stream",
     "text": [
      "Sucessfully loaded 160 entries.\n",
      "\n"
     ]
    }
   ],
   "source": [
    "# Load data\n",
    "data = []\n",
    "continuous_features = np.array ([ 0, 1, 9, 10, 11, 12, 13, 16, 18, 19, 20, 21, 22, 23, 24, 25 ])\n",
    "train_features = np.array([1, 9, 10, 11, 12, 13, 16, 18, 19, 20, 21, 22, 23, 24, 25 ])\n",
    "# Original data is from https://archive.ics.uci.edu/ml/datasets/automobile\n",
    "with open('./automobile.csv', 'r', encoding='utf-8') as csvfile:\n",
    "    csvreader = csv.reader(csvfile, delimiter=',', quotechar='\\\"')\n",
    "    for row in csvreader:\n",
    "        try:\n",
    "            # Get all continuous rows\n",
    "            data.append([float(row[i]) for i in continuous_features])\n",
    "        except:\n",
    "            continue # skip this row since data-processing failed\n",
    "\n",
    "data = np.array(data)\n",
    "y = data[:, 0] # target is first value\n",
    "X = data[:, 1:] # training data is the rest\n",
    "\n",
    "# Normalize the data to zero mean and unit std\n",
    "X = (X - np.mean(X, axis=0, keepdims=True)) / np.std(X, axis=0, keepdims=True)\n",
    "y = (y - np.mean(y)) / np.std(y)\n",
    "\n",
    "print(\"Sucessfully loaded {:d} entries.\\n\".format(len(X)))"
   ]
  },
  {
   "cell_type": "markdown",
   "metadata": {},
   "source": [
    "Part 1 Assignment 2"
   ]
  },
  {
   "cell_type": "code",
   "execution_count": 6,
   "metadata": {},
   "outputs": [
    {
     "name": "stdout",
     "output_type": "stream",
     "text": [
      "Performing forwards stepwise feature selection using mean AIC as criteria...\n",
      "Round 1, selected feature 1 with AIC score 0.754\n",
      "Round 2, selected feature 0 with AIC score 0.530\n",
      "Round 3, selected feature 10 with AIC score 0.490\n",
      "Round 4, selected feature 9 with AIC score 0.498\n",
      "Round 5, selected feature 19 with AIC score 0.506\n",
      "Round 6, selected feature 22 with AIC score 0.516\n",
      "Round 7, selected feature 23 with AIC score 0.517\n",
      "Round 8, selected feature 11 with AIC score 0.528\n",
      "Round 9, selected feature 20 with AIC score 0.539\n",
      "Round 10, selected feature 12 with AIC score 0.550\n",
      "Round 11, selected feature 21 with AIC score 0.560\n",
      "Round 12, selected feature 13 with AIC score 0.572\n",
      "Round 13, selected feature 16 with AIC score 0.584\n",
      "Round 14, selected feature 24 with AIC score 0.596\n",
      "Round 15, selected feature 18 with AIC score 0.608\n",
      "Feature Index: [1, 0, 3] Best features no. were [ 9  1 11] (3 total) with score 0.490\n"
     ]
    }
   ],
   "source": [
    "# Forwards stepwise feature selection\n",
    "tot_num_features = np.shape(X)[-1]\n",
    "all_features = range(tot_num_features)\n",
    "curr_features = []\n",
    "\n",
    "best_score = 1e9\n",
    "best_features = None\n",
    "\n",
    "print(\"Performing forwards stepwise feature selection using mean AIC as criteria...\")\n",
    "# While we have remaining features...\n",
    "while len(curr_features) != tot_num_features:\n",
    "    # Get remaining features \n",
    "    candidate_features = [ f for f in all_features if f not in curr_features ]\n",
    "    \n",
    "    best_score_this_round = 1e9\n",
    "    best_feature_this_round = None\n",
    "    \n",
    "    for f in candidate_features:\n",
    "        test_features = curr_features + [f]\n",
    "        \n",
    "        learned_coefficients = fit_linear( X, y, test_features )\n",
    "        \n",
    "        y_pred = linear(X, learned_coefficients)\n",
    "    \n",
    "        rssloss = np.sum(np.square(y_pred - y))\n",
    "        \n",
    "        AIC = (rssloss + 2 * (len(test_features)+1))/np.shape(X)[0]\n",
    "    \n",
    "        score = AIC \n",
    "\n",
    "        # Remember, lower score is better\n",
    "        if score < best_score_this_round:\n",
    "            best_score_this_round = score\n",
    "            best_feature_this_round = f\n",
    "            \n",
    "        if score < best_score:\n",
    "            best_score = score\n",
    "            best_features = test_features\n",
    "            \n",
    "    # Set current features to best features from round\n",
    "    curr_features = curr_features + [best_feature_this_round]\n",
    "    print(\"Round {}, selected feature {:d} with AIC score {:.3f}\"\\\n",
    "          .format(len(curr_features), continuous_features[best_feature_this_round], best_score_this_round ))\n",
    "            \n",
    "print(\"Feature Index: {} Best features no. were {} ({:d} total) with score {:.3f}\".format(best_features ,train_features[best_features], len(best_features), best_score))"
   ]
  },
  {
   "cell_type": "markdown",
   "metadata": {},
   "source": [
    "Part 1 Assignment 2"
   ]
  },
  {
   "cell_type": "code",
   "execution_count": 7,
   "metadata": {},
   "outputs": [
    {
     "name": "stdout",
     "output_type": "stream",
     "text": [
      "Round 1, removed feature 19, round AIC score 0.596\n",
      "Round 2, removed feature 25, round AIC score 0.584\n",
      "Round 3, removed feature 10, round AIC score 0.571\n",
      "Round 4, removed feature 18, round AIC score 0.559\n",
      "Round 5, removed feature 16, round AIC score 0.548\n",
      "Round 6, removed feature 22, round AIC score 0.538\n",
      "Round 7, removed feature 13, round AIC score 0.527\n",
      "Round 8, removed feature 21, round AIC score 0.516\n",
      "Round 9, removed feature 12, round AIC score 0.505\n",
      "Round 10, removed feature 20, round AIC score 0.502\n",
      "Round 11, removed feature 24, round AIC score 0.502\n",
      "Round 12, removed feature 23, round AIC score 0.490\n",
      "Round 13, removed feature 11, round AIC score 0.530\n",
      "Round 14, removed feature 1, round AIC score 0.754\n",
      "Round 15, removed feature 9, round AIC score 1.012\n",
      "Feature Index: [0, 1, 3] Best features no. [ 1  9 11] (3 total) with AIC score 0.490\n"
     ]
    }
   ],
   "source": [
    "curr_features = [0,1,2,3,4,5,6,7,8,9,10,11,12,13,14]\n",
    "overall_best_score = 1e9\n",
    "overall_best_features = None \n",
    "count = 0\n",
    "while len(curr_features) != 0:\n",
    "\n",
    "    best_score = 1e9\n",
    "    best_features = None\n",
    "    \n",
    "    for f in curr_features:\n",
    "        test = curr_features.copy()\n",
    "        test.remove(f)\n",
    "\n",
    "        learned_coefficients = fit_linear( X, y, test )\n",
    "        \n",
    "        y_pred = linear(X, learned_coefficients)\n",
    "        \n",
    "        rssloss = np.sum(np.square(y_pred - y))\n",
    "        \n",
    "        AIC = (rssloss + 2 * (len(test)+1))/np.shape(X)[0]\n",
    "        \n",
    "        score = AIC\n",
    "\n",
    "        if score < best_score:\n",
    "            best_score = score\n",
    "            best_features = test\n",
    "            best_feature = f\n",
    "        \n",
    "        if score < overall_best_score:\n",
    "            overall_best_score = score\n",
    "            overall_best_features = test\n",
    "\n",
    "    \n",
    "    curr_features = best_features\n",
    "    \n",
    "    count += 1\n",
    "    \n",
    "    print(\"Round {}, removed feature {:d}, round AIC score {:.3f}\".format(count,train_features[best_feature], best_score))\n",
    "#print(overall_best_score,overall_best_features)\n",
    "print(\"Feature Index: {} Best features no. {} ({} total) with AIC score {:.3f}\".format(overall_best_features,train_features[overall_best_features],len(overall_best_features),overall_best_score))"
   ]
  },
  {
   "cell_type": "code",
   "execution_count": 8,
   "metadata": {},
   "outputs": [
    {
     "name": "stdout",
     "output_type": "stream",
     "text": [
      "0.5186618874853988\n"
     ]
    }
   ],
   "source": [
    "#AIC score for LASSO Coefficients\n",
    "LASSO_coefs = [0,1,3,9,10,11]\n",
    "\n",
    "learned_coefficients = fit_linear( X, y, LASSO_coefs )\n",
    "\n",
    "y_pred = linear(X, learned_coefficients)\n",
    "\n",
    "rssloss = np.sum(np.square(y_pred - y))\n",
    "\n",
    "AIC = (rssloss+ 2*(len(LASSO_coefs)+1))/np.shape(X)[0]\n",
    "\n",
    "print(AIC)"
   ]
  },
  {
   "cell_type": "code",
   "execution_count": 9,
   "metadata": {},
   "outputs": [
    {
     "data": {
      "text/plain": [
       "array([ 0.42168113, -0.83176155,  0.        ,  0.41459772,  0.        ,\n",
       "        0.        ,  0.        ,  0.        ,  0.        ,  0.        ,\n",
       "        0.        ,  0.        ,  0.        ,  0.        ,  0.        ,\n",
       "        0.        ])"
      ]
     },
     "execution_count": 9,
     "metadata": {},
     "output_type": "execute_result"
    }
   ],
   "source": [
    "AIC_features = [0,1,3]\n",
    "coefs = fit_linear( X, y, AIC_features )\n",
    "coefs"
   ]
  }
 ],
 "metadata": {
  "kernelspec": {
   "display_name": "Python 3",
   "language": "python",
   "name": "python3"
  },
  "language_info": {
   "codemirror_mode": {
    "name": "ipython",
    "version": 3
   },
   "file_extension": ".py",
   "mimetype": "text/x-python",
   "name": "python",
   "nbconvert_exporter": "python",
   "pygments_lexer": "ipython3",
   "version": "3.8.5"
  }
 },
 "nbformat": 4,
 "nbformat_minor": 4
}
